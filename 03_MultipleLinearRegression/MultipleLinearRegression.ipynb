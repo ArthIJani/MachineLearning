{
  "nbformat": 4,
  "nbformat_minor": 0,
  "metadata": {
    "colab": {
      "provenance": [],
      "toc_visible": true
    },
    "kernelspec": {
      "name": "python3",
      "display_name": "Python 3"
    },
    "language_info": {
      "name": "python"
    }
  },
  "cells": [
    {
      "cell_type": "markdown",
      "source": [
        "## **Data Preprocessing**"
      ],
      "metadata": {
        "id": "5j4hxxDIhocc"
      }
    },
    {
      "cell_type": "markdown",
      "source": [
        "### **Importing the Libraries**"
      ],
      "metadata": {
        "id": "DfN6BMlfeVKk"
      }
    },
    {
      "cell_type": "code",
      "execution_count": 1,
      "metadata": {
        "id": "DzWy0op9jDmQ"
      },
      "outputs": [],
      "source": [
        "import numpy as np\n",
        "import matplotlib.pyplot as plt\n",
        "import pandas as pd"
      ]
    },
    {
      "cell_type": "markdown",
      "source": [
        "### **Importing the Data**"
      ],
      "metadata": {
        "id": "41mMmdaYecvY"
      }
    },
    {
      "cell_type": "code",
      "source": [
        "dataset = pd.read_csv(\"/content/50_Startups.csv\")\n",
        "X = dataset.iloc[:, :-1].values\n",
        "y = dataset.iloc[:, -1].values"
      ],
      "metadata": {
        "id": "uljEAoEPjpgJ"
      },
      "execution_count": 2,
      "outputs": []
    },
    {
      "cell_type": "code",
      "source": [
        "print(X)"
      ],
      "metadata": {
        "id": "yUqoHCX2nax2"
      },
      "execution_count": null,
      "outputs": []
    },
    {
      "cell_type": "markdown",
      "source": [
        "### **Encoding Categorical Data**"
      ],
      "metadata": {
        "id": "x7NPuMz1npjP"
      }
    },
    {
      "cell_type": "code",
      "source": [
        "from sklearn.compose import ColumnTransformer\n",
        "from sklearn.preprocessing import OneHotEncoder\n",
        "ct = ColumnTransformer(transformers=[('encoder',OneHotEncoder(), [3])],remainder='passthrough')\n",
        "X = np.array(ct.fit_transform(X))"
      ],
      "metadata": {
        "id": "SMz7p2wpn0Xh"
      },
      "execution_count": 4,
      "outputs": []
    },
    {
      "cell_type": "code",
      "source": [
        "print(X)"
      ],
      "metadata": {
        "colab": {
          "base_uri": "https://localhost:8080/"
        },
        "id": "kErn0OylodcQ",
        "outputId": "e830fba8-1c93-4f7b-c9fc-6e2d1c4493a6"
      },
      "execution_count": 5,
      "outputs": [
        {
          "output_type": "stream",
          "name": "stdout",
          "text": [
            "[[0.0 0.0 1.0 165349.2 136897.8 471784.1]\n",
            " [1.0 0.0 0.0 162597.7 151377.59 443898.53]\n",
            " [0.0 1.0 0.0 153441.51 101145.55 407934.54]\n",
            " [0.0 0.0 1.0 144372.41 118671.85 383199.62]\n",
            " [0.0 1.0 0.0 142107.34 91391.77 366168.42]\n",
            " [0.0 0.0 1.0 131876.9 99814.71 362861.36]\n",
            " [1.0 0.0 0.0 134615.46 147198.87 127716.82]\n",
            " [0.0 1.0 0.0 130298.13 145530.06 323876.68]\n",
            " [0.0 0.0 1.0 120542.52 148718.95 311613.29]\n",
            " [1.0 0.0 0.0 123334.88 108679.17 304981.62]\n",
            " [0.0 1.0 0.0 101913.08 110594.11 229160.95]\n",
            " [1.0 0.0 0.0 100671.96 91790.61 249744.55]\n",
            " [0.0 1.0 0.0 93863.75 127320.38 249839.44]\n",
            " [1.0 0.0 0.0 91992.39 135495.07 252664.93]\n",
            " [0.0 1.0 0.0 119943.24 156547.42 256512.92]\n",
            " [0.0 0.0 1.0 114523.61 122616.84 261776.23]\n",
            " [1.0 0.0 0.0 78013.11 121597.55 264346.06]\n",
            " [0.0 0.0 1.0 94657.16 145077.58 282574.31]\n",
            " [0.0 1.0 0.0 91749.16 114175.79 294919.57]\n",
            " [0.0 0.0 1.0 86419.7 153514.11 0.0]\n",
            " [1.0 0.0 0.0 76253.86 113867.3 298664.47]\n",
            " [0.0 0.0 1.0 78389.47 153773.43 299737.29]\n",
            " [0.0 1.0 0.0 73994.56 122782.75 303319.26]\n",
            " [0.0 1.0 0.0 67532.53 105751.03 304768.73]\n",
            " [0.0 0.0 1.0 77044.01 99281.34 140574.81]\n",
            " [1.0 0.0 0.0 64664.71 139553.16 137962.62]\n",
            " [0.0 1.0 0.0 75328.87 144135.98 134050.07]\n",
            " [0.0 0.0 1.0 72107.6 127864.55 353183.81]\n",
            " [0.0 1.0 0.0 66051.52 182645.56 118148.2]\n",
            " [0.0 0.0 1.0 65605.48 153032.06 107138.38]\n",
            " [0.0 1.0 0.0 61994.48 115641.28 91131.24]\n",
            " [0.0 0.0 1.0 61136.38 152701.92 88218.23]\n",
            " [1.0 0.0 0.0 63408.86 129219.61 46085.25]\n",
            " [0.0 1.0 0.0 55493.95 103057.49 214634.81]\n",
            " [1.0 0.0 0.0 46426.07 157693.92 210797.67]\n",
            " [0.0 0.0 1.0 46014.02 85047.44 205517.64]\n",
            " [0.0 1.0 0.0 28663.76 127056.21 201126.82]\n",
            " [1.0 0.0 0.0 44069.95 51283.14 197029.42]\n",
            " [0.0 0.0 1.0 20229.59 65947.93 185265.1]\n",
            " [1.0 0.0 0.0 38558.51 82982.09 174999.3]\n",
            " [1.0 0.0 0.0 28754.33 118546.05 172795.67]\n",
            " [0.0 1.0 0.0 27892.92 84710.77 164470.71]\n",
            " [1.0 0.0 0.0 23640.93 96189.63 148001.11]\n",
            " [0.0 0.0 1.0 15505.73 127382.3 35534.17]\n",
            " [1.0 0.0 0.0 22177.74 154806.14 28334.72]\n",
            " [0.0 0.0 1.0 1000.23 124153.04 1903.93]\n",
            " [0.0 1.0 0.0 1315.46 115816.21 297114.46]\n",
            " [1.0 0.0 0.0 0.0 135426.92 0.0]\n",
            " [0.0 0.0 1.0 542.05 51743.15 0.0]\n",
            " [1.0 0.0 0.0 0.0 116983.8 45173.06]]\n"
          ]
        }
      ]
    },
    {
      "cell_type": "markdown",
      "source": [
        "### **Splitting the Data**"
      ],
      "metadata": {
        "id": "5bXqzo1Uem1c"
      }
    },
    {
      "cell_type": "code",
      "source": [
        "from sklearn.model_selection import train_test_split\n",
        "X_train, X_test, y_train, y_test = train_test_split(X, y, test_size = 0.2, random_state = 0)"
      ],
      "metadata": {
        "id": "FwsuTxNTjpPv"
      },
      "execution_count": 7,
      "outputs": []
    },
    {
      "cell_type": "markdown",
      "source": [
        "**Note : No Need to Apply Feature Scaling in Multiple Linear Regression**"
      ],
      "metadata": {
        "id": "LYiFoDSEvTmk"
      }
    },
    {
      "cell_type": "markdown",
      "source": [
        "## **Building a model**"
      ],
      "metadata": {
        "id": "rd7QtbPYgMIm"
      }
    },
    {
      "cell_type": "markdown",
      "source": [
        "### **Backward Elimination**\n",
        "\n",
        "Step 1: Select a significance level to stay in the model (eg SL=0.05)\n",
        "\n",
        "Step 2: Fit the full model with all possible predictors.\n",
        "\n",
        "Step 3: Consider the predictor with the highest P-value. If P>SL, go to STEP 4, otherwise go to FIN\n",
        "\n",
        "Step 4: Remove the Predictor\n",
        "\n",
        "Step 5: Fit the model without this variable*\n",
        "\n",
        "**FIN : Your Model is Ready**"
      ],
      "metadata": {
        "id": "5pd8669xgRbF"
      }
    },
    {
      "cell_type": "markdown",
      "source": [
        "### **Forward Selection**\n",
        "\n",
        "Step 1: Select a significance level to enter the model (e.g. SL = 0.05)\n",
        "\n",
        "Step 2: Fit all simple regression models **y~xn** Select the one with the lowest P-value\n",
        "\n",
        "Step 3: Keep this variable and fit all possible models with one extra predictor added to the one(s)\n",
        "\n",
        "Step 4: Consider the predictor with the lowest P-value. If p < SL, go to STEP 3, otherwise go to FIN\n",
        "\n",
        "**FIN : Your Model is Ready**\n"
      ],
      "metadata": {
        "id": "1LYWIW5EhzBu"
      }
    },
    {
      "cell_type": "markdown",
      "source": [
        "### **Bidirectional Elimination**\n",
        "\n",
        "Step 1: Select a significance level to enter and to stay in the model. e.g: SLENTER = 0.05, SLSTAY = 0.05\n",
        "\n",
        "Step 2: Perform the next step of Forward Selection (new variables must have: P < SLENTER to enter)\n",
        "\n",
        "Step 3: Perform ALL steps of Backward Elimination (old variables must have P < SLSTAY to stay)\n",
        "\n",
        "Step 4: No new variables and no old variables can exit\n",
        "\n",
        "**FIN : Your Model is Ready**"
      ],
      "metadata": {
        "id": "tMFvJa38jxt_"
      }
    },
    {
      "cell_type": "markdown",
      "source": [
        "### **All Possible Models**\n",
        "\n",
        "Step 1: Select a criterion of goodness of fit (e.g. Akaike criteron)\n",
        "\n",
        "Step 2: Construct All Possible Regession Models: 2^N -1 total Combinations\n",
        "\n",
        "Step 3: Select the one with the best criterion\n",
        "\n",
        "**FIN : Your Model is Ready**\n",
        "\n",
        "Example: 10 columns means 1023 models"
      ],
      "metadata": {
        "id": "_TrPhiP3lBVx"
      }
    },
    {
      "cell_type": "markdown",
      "source": [
        "## **Multiple Linear Regression**"
      ],
      "metadata": {
        "id": "nfAHsltjvnjT"
      }
    },
    {
      "cell_type": "markdown",
      "source": [
        "### **Training the Multiple Linear Regression Model on the Training Set**"
      ],
      "metadata": {
        "id": "lS5VzyVbvyvA"
      }
    },
    {
      "cell_type": "code",
      "source": [
        "from sklearn.linear_model import LinearRegression\n",
        "regressor = LinearRegression()\n",
        "regressor.fit(X_train, y_train)"
      ],
      "metadata": {
        "colab": {
          "base_uri": "https://localhost:8080/"
        },
        "id": "kh3YqxiilpcU",
        "outputId": "d27dd606-32fe-4c4e-e57d-0a8fd519d21a"
      },
      "execution_count": 8,
      "outputs": [
        {
          "output_type": "execute_result",
          "data": {
            "text/plain": [
              "LinearRegression()"
            ]
          },
          "metadata": {},
          "execution_count": 8
        }
      ]
    },
    {
      "cell_type": "markdown",
      "source": [
        "### **Predicting the Test Set Results**"
      ],
      "metadata": {
        "id": "g8Vkkjevv-IL"
      }
    },
    {
      "cell_type": "code",
      "source": [
        "y_pred = regressor.predict(X_test)\n",
        "np.set_printoptions(precision=2)\n",
        "print(np.concatenate((y_pred.reshape(len(y_pred),1),y_test.reshape(len(y_test),1)),1))"
      ],
      "metadata": {
        "id": "MwiEtTq5jpHO",
        "colab": {
          "base_uri": "https://localhost:8080/"
        },
        "outputId": "3a17cb65-025f-4164-ce49-4fe2eea9292e"
      },
      "execution_count": 9,
      "outputs": [
        {
          "output_type": "stream",
          "name": "stdout",
          "text": [
            "[[103015.2  103282.38]\n",
            " [132582.28 144259.4 ]\n",
            " [132447.74 146121.95]\n",
            " [ 71976.1   77798.83]\n",
            " [178537.48 191050.39]\n",
            " [116161.24 105008.31]\n",
            " [ 67851.69  81229.06]\n",
            " [ 98791.73  97483.56]\n",
            " [113969.44 110352.25]\n",
            " [167921.07 166187.94]]\n"
          ]
        }
      ]
    }
  ]
}